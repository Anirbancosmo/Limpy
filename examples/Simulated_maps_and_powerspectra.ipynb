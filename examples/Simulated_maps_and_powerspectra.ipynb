{
 "cells": [
  {
   "cell_type": "code",
   "execution_count": 1,
   "id": "012560c9",
   "metadata": {},
   "outputs": [],
   "source": [
    "import numpy as np\n",
    "import matplotlib.pyplot as plt\n",
    "\n",
    "import limpy.lines as ll\n",
    "import limpy.powerspectra as lp\n",
    "import limpy.params as p\n",
    "import limpy.utils as lu\n",
    "from limpy.plotsettings import *"
   ]
  },
  {
   "cell_type": "code",
   "execution_count": 2,
   "id": "31eef607",
   "metadata": {},
   "outputs": [
    {
     "name": "stdout",
     "output_type": "stream",
     "text": [
      "Available models for sfr ---> ['Behroozi19', 'Tng300', 'Tng100', 'Silva15', 'Fonseca16']\n",
      "Available models for sfr ---> ['Visbal10', 'Silva15-m1', 'Silva15-m2', 'Silva15-m3', 'Silva15-m4', 'Fonseca16', 'Lagache18', 'Schaerer20', 'Alma_scalling']\n"
     ]
    }
   ],
   "source": [
    "sfr_model, line_lum_models = p.model_avail(line_name=\"CII158\")\n",
    "print(\"Available models for sfr --->\", sfr_model)\n",
    "\n",
    "print(\"Available models for sfr --->\", line_lum_models)"
   ]
  },
  {
   "cell_type": "code",
   "execution_count": 3,
   "id": "c099ffd1",
   "metadata": {},
   "outputs": [],
   "source": [
    "halo_file =\"../limpy/data/\" + 'halos_L205_z7.00.npz'"
   ]
  },
  {
   "cell_type": "code",
   "execution_count": 4,
   "id": "18cbae38",
   "metadata": {},
   "outputs": [
    {
     "name": "stdout",
     "output_type": "stream",
     "text": [
      "/Users/anirbanroy/Documents/Limpy/examples\r\n"
     ]
    }
   ],
   "source": [
    "!pwd"
   ]
  },
  {
   "cell_type": "markdown",
   "id": "c2eef769",
   "metadata": {},
   "source": [
    "### Upload halo catalogue and make intensity maps"
   ]
  },
  {
   "cell_type": "markdown",
   "id": "0e59c860",
   "metadata": {},
   "source": [
    "Limpy can paint line intensities on external halo catalogue. \n",
    "The catalogue file should be in npz format and the columns should be saved as ['m', 'x', 'y', 'z']. \n",
    "The units are in Msun/h, Mpc/h, Mpc/h, Mpc/h units. \n",
    "\n",
    "---> halocat_type=\"input_cat\" assumes this convention. "
   ]
  },
  {
   "cell_type": "code",
   "execution_count": 5,
   "id": "4e317ab5",
   "metadata": {},
   "outputs": [
    {
     "name": "stdout",
     "output_type": "stream",
     "text": [
      "The maximum value of mass---> 1448705000000.0\n",
      "The mainimum value of mass---> 10000008000.0\n"
     ]
    }
   ],
   "source": [
    "# Let's download a sample halo catalogue\n",
    "#halo_file = \"../data/\" + 'halos_L205_z7.00.npz'\n",
    "\n",
    "# load it and check the quantities\n",
    "hf = np.load(halo_file)\n",
    "\n",
    "# Read the quantities\n",
    "mass = hf ['m']\n",
    "x = hf ['x']\n",
    "y = hf ['y']\n",
    "z = hf ['z']\n",
    "\n",
    "print(\"The maximum value of mass--->\", mass.max())\n",
    "print(\"The mainimum value of mass--->\", mass.min())"
   ]
  },
  {
   "cell_type": "markdown",
   "id": "8dc9e684",
   "metadata": {},
   "source": [
    "### Make an intensity grid using the halo catalog"
   ]
  },
  {
   "cell_type": "code",
   "execution_count": 6,
   "id": "7ee4992c",
   "metadata": {},
   "outputs": [],
   "source": [
    "# cross CII_280 * CO54 (90)\n",
    "z = 7.00  # redshift of catalog\n",
    "line_name = \"CII158\" # line name that you want to paint\n",
    "\n",
    "model_name=\"Fonseca16\"  # line luminosity model name\n",
    "sfr_model=\"Behroozi19\" # sfr model name \n",
    "mmin=1e11              # minimum mass of the halos\n",
    "small_h = 0.68         # value of Hubble parameter. H0 = 100 * small_h\n",
    "halocat_file_type=\"input_cat\" # \n",
    "ngrid= 256             # numer of grid points along the all three exes\n",
    "boxsize = 205          # Length of the box \n",
    "\n",
    "\n",
    "# make intensity grid\n",
    "Igcal=ll.make_intensity_grid(halo_file, \n",
    "                           z,\n",
    "                           sfr_model=sfr_model,\n",
    "                           model_name= model_name,\n",
    "                           line_name = line_name, \n",
    "                           halo_cutoff_mass= mmin, \n",
    "                           halocat_type=halocat_file_type,\n",
    "                           ngrid_x = ngrid, \n",
    "                           ngrid_y = ngrid, \n",
    "                           ngrid_z = ngrid, \n",
    "                           boxsize_x=boxsize,\n",
    "                           boxsize_y=boxsize,\n",
    "                           boxsize_z=boxsize)\n"
   ]
  },
  {
   "cell_type": "code",
   "execution_count": 7,
   "id": "0aeba304",
   "metadata": {},
   "outputs": [
    {
     "name": "stdout",
     "output_type": "stream",
     "text": [
      "The shape of the grid is  (256, 256, 256)\n"
     ]
    }
   ],
   "source": [
    "print(\"The shape of the grid is \", np.shape(Igcal))"
   ]
  },
  {
   "cell_type": "markdown",
   "id": "ccd26eca",
   "metadata": {},
   "source": [
    "### calculate the 3D power spectrum and plot it"
   ]
  },
  {
   "cell_type": "markdown",
   "id": "5164d5d8",
   "metadata": {},
   "source": [
    "The function can calculate the power spectrum of both cube and rectangular box. If boxsize and ngrids \n",
    "are different along three axes, then the function \"get_pk3d\" will assume it as a rectangular box."
   ]
  },
  {
   "cell_type": "code",
   "execution_count": 14,
   "id": "05c74fda",
   "metadata": {},
   "outputs": [],
   "source": [
    "kcal, pkcal = lp.get_pk3d(\n",
    "                            Igcal,\n",
    "                            boxsize,\n",
    "                            boxsize,\n",
    "                            boxsize,\n",
    "                            ngrid,\n",
    "                            ngrid,\n",
    "                            ngrid )"
   ]
  },
  {
   "cell_type": "code",
   "execution_count": 15,
   "id": "f66d25bc",
   "metadata": {},
   "outputs": [
    {
     "data": {
      "text/plain": [
       "(0.030649684425266274, 3.923159606434083)"
      ]
     },
     "execution_count": 15,
     "metadata": {},
     "output_type": "execute_result"
    },
    {
     "data": {
      "image/png": "[encoded data removed]",
      "text/plain": [
       "<Figure size 500x500 with 1 Axes>"
      ]
     },
     "metadata": {
      "needs_background": "light"
     },
     "output_type": "display_data"
    }
   ],
   "source": [
    "# Plot the power spectrum\n",
    "\n",
    "fig = plt.figure(figsize=(5, 5), dpi=100)\n",
    "ax=fig.add_subplot(111)\n",
    "\n",
    "KF = 2* np.pi/boxsize\n",
    "KN = np.pi * ngrid/boxsize\n",
    "\n",
    "ax.loglog(kcal, lu.dk(kcal, pkcal), lw=3)\n",
    "\n",
    "plt.ylabel(r\"$\\Delta^2_{\\rm line} \\, [Jy/Sr]^2$\")\n",
    "plt.xlabel(r\"$k\\, [h/\\mathrm{Mpc}]$\")\n",
    "\n",
    "plt.xlim(KF, KN)\n"
   ]
  },
  {
   "cell_type": "markdown",
   "id": "6554cda7",
   "metadata": {},
   "source": [
    "### Intensity grid after beam convolution."
   ]
  },
  {
   "cell_type": "markdown",
   "id": "5c3e5f88",
   "metadata": {},
   "source": [
    "make intensity grid after performing beam convolution. For this case, we need to pass \n",
    "three more extra parameters, the observational frequency in GHz, frequency resolution in GHz, and \n",
    "the beam size (FWHM) in arc-minute. "
   ]
  },
  {
   "cell_type": "code",
   "execution_count": null,
   "id": "5e978bf8",
   "metadata": {},
   "outputs": [],
   "source": [
    "nu_obs = 220 # the observational frequency \n",
    "dnu_obs = 2.2 # frequency resolution\n",
    "fwhm_arcmin = 1.5 # FWHM of beam in arc-minute\n",
    "\n",
    "Ig_beam=ll.make_intensity_grid(halo_file, \n",
    "                           z,\n",
    "                           sfr_model=sfr_model,\n",
    "                           model_name= model_name,\n",
    "                           line_name = line_name, \n",
    "                           halo_cutoff_mass= mmin, \n",
    "                           halocat_type=halocat_file_type,\n",
    "                           ngrid_x = ngrid, \n",
    "                           ngrid_y = ngrid, \n",
    "                           ngrid_z = ngrid, \n",
    "                           boxsize_x=boxsize,\n",
    "                           boxsize_y=boxsize,\n",
    "                           boxsize_z=boxsize,\n",
    "                           nu_obs = nu_obs,\n",
    "                           dnu_obs = dnu_obs,\n",
    "                           theta_fwhm = fwhm_arcmin)\n"
   ]
  },
  {
   "cell_type": "markdown",
   "id": "ebec776a",
   "metadata": {},
   "source": [
    "when we apply beam convolution, the code changes the number grid points along the z-axis \n",
    "(by convensition axis = 2) according to the frequency resolution $\\delta \\nu_{\\rm obs}$."
   ]
  },
  {
   "cell_type": "code",
   "execution_count": null,
   "id": "3b5cb801",
   "metadata": {},
   "outputs": [],
   "source": [
    "# calculate the power spectrum\n",
    "ngrid_new = np.shape(Ig_beam)[2]\n",
    "\n",
    "kb, pkb = lp.get_pk3d(\n",
    "    Ig_beam,\n",
    "    boxsize,\n",
    "    boxsize,\n",
    "    boxsize,\n",
    "    ngrid,\n",
    "    ngrid,\n",
    "    ngrid_new)"
   ]
  },
  {
   "cell_type": "markdown",
   "id": "daf44956",
   "metadata": {},
   "source": [
    "### plot intensity maps"
   ]
  },
  {
   "cell_type": "code",
   "execution_count": null,
   "id": "d20650c3",
   "metadata": {},
   "outputs": [],
   "source": [
    "# Let's make a slice plot using the built-in plotting function \"plot_beam_convolution\".\n",
    "\n",
    "ll.plot_beam_convolution(Ig_beam[:,:,0], ngrid, boxsize, \n",
    "                           z, cmap=\"hot\", plot_scale=\"lin\", vmax=800, vmin=100)"
   ]
  },
  {
   "cell_type": "code",
   "execution_count": null,
   "id": "7be4c5ca",
   "metadata": {},
   "outputs": [],
   "source": [
    "# make maps with 0.5 arc-min beam size\n",
    "fwhm_arcmin = 0.5\n",
    "Ig_beam1=ll.make_intensity_grid(halo_file, \n",
    "                           z,\n",
    "                           sfr_model=sfr_model,\n",
    "                           model_name= model_name,\n",
    "                           line_name = line_name, \n",
    "                           halo_cutoff_mass= mmin, \n",
    "                           halocat_type=halocat_file_type,\n",
    "                           ngrid_x = ngrid, \n",
    "                           ngrid_y = ngrid, \n",
    "                           ngrid_z = ngrid, \n",
    "                           boxsize_x=boxsize,\n",
    "                           boxsize_y=boxsize,\n",
    "                           boxsize_z=boxsize,\n",
    "                           nu_obs = nu_obs,\n",
    "                           dnu_obs = dnu_obs,\n",
    "                           theta_fwhm = fwhm_arcmin)\n"
   ]
  },
  {
   "cell_type": "code",
   "execution_count": null,
   "id": "6e23ee38",
   "metadata": {},
   "outputs": [],
   "source": [
    "# check the modified ngrid along the z-axis due to the effect of delta_nu_obs\n",
    "ngrid_new = np.shape(Ig_beam1)[2]\n",
    "\n",
    "\n",
    "# calculate the power spectrum\n",
    "kb1, pkb1 = lp.get_pk3d(\n",
    "    Ig_beam1,\n",
    "    boxsize,\n",
    "    boxsize,\n",
    "    boxsize,\n",
    "    ngrid,\n",
    "    ngrid,\n",
    "    ngrid_new)"
   ]
  },
  {
   "cell_type": "code",
   "execution_count": null,
   "id": "7a010801",
   "metadata": {},
   "outputs": [],
   "source": [
    "ll.plot_beam_convolution(Ig_beam1[:,:,0], ngrid, boxsize, z, cmap=\"hot\", plot_scale=\"log\", vmax=1000, vmin=100)"
   ]
  },
  {
   "cell_type": "code",
   "execution_count": null,
   "id": "5ea756cb",
   "metadata": {},
   "outputs": [],
   "source": [
    "plt.loglog(kcal, lu.dk(kcal, pkcal), lw=3, label = \"No beam conv\")\n",
    "plt.loglog(kb, lu.dk(kb, pkb), lw=3, label = \"beam conv, 1.5 arc-min\")\n",
    "plt.loglog(kb1, lu.dk(kb1, pkb1), lw=3, label = \"beam conv, 0.5 arc-min\")\n",
    "\n",
    "plt.legend(loc=0, frameon=False)\n",
    "\n",
    "\n",
    "plt.xlim(KF, KN)\n",
    "plt.ylabel(r\"$\\Delta^2_{\\rm line} \\, [Jy/Sr]^2$\")\n",
    "plt.xlabel(r\"$k\\, [h/\\mathrm{Mpc}]$\")\n"
   ]
  },
  {
   "cell_type": "markdown",
   "id": "2d9d8c6d",
   "metadata": {},
   "source": [
    "### Calculate the error on the power spectrum in the presence of white noise only. "
   ]
  },
  {
   "cell_type": "code",
   "execution_count": null,
   "id": "3c233cdf",
   "metadata": {},
   "outputs": [],
   "source": [
    "bin_num = 6 # number of bins\n",
    "pk_noise = 4e9 #take simple white noise power spectrum in Jy/Sr * Mpc^3\n",
    "\n",
    "Vsurv = lu.V_survey(z, dnu_obs=2.8, area= 16, line_name = \"CII158\") # volume of the survey\n",
    "\n",
    "# calculate the \n",
    "kbin, pkbin, pkerr = lp.pk_error(kcal, pkcal, pk_noise, Vsurv, bin_num = bin_num, binning_scheme = \"log\")"
   ]
  },
  {
   "cell_type": "code",
   "execution_count": null,
   "id": "e7f5b826",
   "metadata": {},
   "outputs": [],
   "source": [
    "plt.errorbar(kbin, lu.dk(kbin, pkbin), yerr = lu.dk(kbin, pkerr ), fmt ='', lw=2,  marker = \"o\", ls='none')\n",
    "plt.plot(kcal, lu.dk (kcal, pkcal), lw= 2, color =\"red\")\n",
    "\n",
    "plt.yscale(\"log\")\n",
    "plt.xscale(\"log\")\n",
    "\n",
    "plt.xlim(KF, KN)\n",
    "plt.ylabel(r\"$\\Delta^2_{\\rm line} \\, [Jy/Sr]^2$\")\n",
    "plt.xlabel(r\"$k\\, [h/\\mathrm{Mpc}]$\")"
   ]
  },
  {
   "cell_type": "markdown",
   "id": "9a40511f",
   "metadata": {},
   "source": [
    "### Introduce Z evolution"
   ]
  },
  {
   "cell_type": "markdown",
   "id": "d84faa59",
   "metadata": {},
   "source": [
    "If the box size is very large along the redshift axis, the code can introduce the\n",
    "evolution of sfr along the refshift axis. "
   ]
  },
  {
   "cell_type": "code",
   "execution_count": null,
   "id": "5a1f5e4a",
   "metadata": {},
   "outputs": [],
   "source": [
    "Ig_zevo=ll.make_intensity_grid(halo_file, \n",
    "                           z,\n",
    "                           sfr_model=sfr_model,\n",
    "                           model_name= model_name,\n",
    "                           line_name = line_name, \n",
    "                           halo_cutoff_mass= mmin, \n",
    "                           halocat_type=halocat_file_type,\n",
    "                           ngrid_x = ngrid, \n",
    "                           ngrid_y = ngrid, \n",
    "                           ngrid_z = ngrid, \n",
    "                           boxsize_x=boxsize,\n",
    "                           boxsize_y=boxsize,\n",
    "                           boxsize_z=boxsize,\n",
    "                           nu_obs = nu_obs,\n",
    "                           dnu_obs = dnu_obs,\n",
    "                           theta_fwhm = fwhm_arcmin,\n",
    "                           z_evolution=True)\n"
   ]
  },
  {
   "cell_type": "code",
   "execution_count": null,
   "id": "e0121feb",
   "metadata": {},
   "outputs": [],
   "source": [
    "\n",
    "ngrid_new = np.shape(Ig_zevo)[2]\n",
    "kz, pkz = lp.get_pk3d(\n",
    "    Ig_zevo,\n",
    "    boxsize,\n",
    "    boxsize,\n",
    "    boxsize,\n",
    "    ngrid,\n",
    "    ngrid,\n",
    "    ngrid_new)"
   ]
  },
  {
   "cell_type": "code",
   "execution_count": null,
   "id": "b99621e0",
   "metadata": {},
   "outputs": [],
   "source": [
    "plt.loglog(kcal, lu.dk(kcal, pkcal), lw=3)\n",
    "plt.loglog(kb, lu.dk(kb, pkb), lw=3)\n",
    "plt.loglog(kz, lu.dk(kz, pkz), lw=3)\n",
    "\n",
    "plt.xlim(KF, KN)\n",
    "plt.ylabel(r\"$\\Delta^2_{\\rm line} \\, [Jy/Sr]^2$\")\n",
    "plt.xlabel(r\"$k\\, [h/\\mathrm{Mpc}]$\")"
   ]
  },
  {
   "cell_type": "code",
   "execution_count": null,
   "id": "905eb1c0",
   "metadata": {},
   "outputs": [],
   "source": []
  }
 ],
 "metadata": {
  "kernelspec": {
   "display_name": "Python 3 (ipykernel)",
   "language": "python",
   "name": "python3"
  },
  "language_info": {
   "codemirror_mode": {
    "name": "ipython",
    "version": 3
   },
   "file_extension": ".py",
   "mimetype": "text/x-python",
   "name": "python",
   "nbconvert_exporter": "python",
   "pygments_lexer": "ipython3",
   "version": "3.9.16"
  }
 },
 "nbformat": 4,
 "nbformat_minor": 5
}
