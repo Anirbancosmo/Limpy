{
 "cells": [
  {
   "cell_type": "code",
   "execution_count": 1,
   "id": "f24979f7",
   "metadata": {},
   "outputs": [],
   "source": [
    "import numpy as np\n",
    "import matplotlib.pyplot as plt\n",
    "\n",
    "import limpy.lines as ll\n",
    "import limpy.powerspectra as lp\n",
    "import limpy.params as p\n",
    "import limpy.utils as lu\n",
    "from limpy.plotsettings import *"
   ]
  },
  {
   "cell_type": "code",
   "execution_count": null,
   "id": "07dd5164",
   "metadata": {},
   "outputs": [],
   "source": [
    "halo_file = \"../data/\" + 'halos_L205_z7.00.npz'"
   ]
  },
  {
   "cell_type": "code",
   "execution_count": null,
   "id": "585f274d",
   "metadata": {},
   "outputs": [],
   "source": [
    "from powerbox import get_power"
   ]
  },
  {
   "cell_type": "code",
   "execution_count": null,
   "id": "1d828369",
   "metadata": {},
   "outputs": [],
   "source": [
    "# cross CII_280 * CO54 (90)\n",
    "z = 7.00  # redshift of catalog\n",
    "line_name = \"CII158\" # line name that you want to paint\n",
    "\n",
    "model_name=\"Lagache18-metal\"  # line luminosity model name\n",
    "sfr_model=\"Fonseca16\" # sfr model name \n",
    "mmin=1e10              # minimum mass of the halos\n",
    "small_h = 0.68         # value of Hubble parameter. H0 = 100 * small_h\n",
    "halocat_file_type=\"input_cat\" # \n",
    "ngrid= 512             # numer of grid points along the all three exes\n",
    "boxsize = 205          # Length of the box \n",
    "\n",
    "\n",
    "k, pk = [], []\n",
    "\n",
    "zg = [5.0, 7.0, 9.6]\n",
    "\n",
    "for i in range(len(zg)):\n",
    "    # make intensity grid\n",
    "    Igcal=ll.make_intensity_grid(halo_file, \n",
    "                               z,\n",
    "                               sfr_model=sfr_model,\n",
    "                               model_name= model_name,\n",
    "                               line_name = line_name, \n",
    "                               halo_cutoff_mass= mmin, \n",
    "                               halocat_type=halocat_file_type,\n",
    "                               ngrid_x = ngrid, \n",
    "                               ngrid_y = ngrid, \n",
    "                               ngrid_z = ngrid, \n",
    "                               boxsize_x=boxsize,\n",
    "                               boxsize_y=boxsize,\n",
    "                               boxsize_z=boxsize,\n",
    "                               zg = zg[i])\n",
    "    \n",
    "    pk0, k0  = get_power(Igcal, boxsize)\n",
    "    \n",
    "    k.append(k0), pk.append(pk0)\n",
    "\n"
   ]
  },
  {
   "cell_type": "code",
   "execution_count": null,
   "id": "1b2591de",
   "metadata": {},
   "outputs": [],
   "source": [
    "fig = plt.figure(figsize=(5, 5), dpi=100)\n",
    "label = [r'$Z_{\\rm g} = 5$', r'$Z_{\\rm g} = 7$', r'$Z_{\\rm g} = 9$']\n",
    "for i in range(len(zg)):\n",
    "    plt.loglog(k[i], lu.dk(k[i], pk[i]), label = label[i])\n",
    "\n",
    "plt.xlim(1e-1,1e1)\n",
    "plt.ylim(1e2,1e8)\n",
    "\n",
    "plt.legend(loc=0, frameon=False)\n",
    "\n",
    "plt.ylabel(r\"$\\Delta^2_{\\rm CII} \\, [Jy/Sr]^2$\")\n",
    "plt.xlabel(r\"$k\\, [h/\\mathrm{Mpc}]$\")\n",
    "\n",
    "plt.savefig(\"CII_ps_metallicity.jpeg\", bbox_inches= \"tight\")"
   ]
  },
  {
   "cell_type": "code",
   "execution_count": null,
   "id": "9879b0af",
   "metadata": {},
   "outputs": [],
   "source": [
    "mh = np.logspace(10, 12)\n",
    "lum = []\n",
    "for i in range(len(zg)):\n",
    "    res = ll.mhalo_to_lline(mh, 2, sfr_model = \"Fonseca16\", model_name =\"Lagache18-metal\", zg=zg[i])\n",
    "    lum.append(res)\n",
    "    "
   ]
  },
  {
   "cell_type": "code",
   "execution_count": null,
   "id": "04dc3978",
   "metadata": {},
   "outputs": [],
   "source": [
    "fig = plt.figure(figsize=(5, 5), dpi=100)\n",
    "for i in range(len(zg)):\n",
    "    plt.semilogx(mh, lum[i], label = zg[i])\n",
    "    \n",
    "plt.legend(loc=0)"
   ]
  },
  {
   "cell_type": "code",
   "execution_count": null,
   "id": "d3d42ee9",
   "metadata": {},
   "outputs": [],
   "source": [
    "# cross CII_280 * CO54 (90)\n",
    "z = 6.00  # redshift of catalog\n",
    "line_name = \"CII158\" # line name that you want to paint\n",
    "\n",
    "model_name=\"Alma_scalling\"  # line luminosity model name\n",
    "sfr_model=\"Fonseca16\" # sfr model name \n",
    "mmin=1e10              # minimum mass of the halos\n",
    "small_h = 0.68         # value of Hubble parameter. H0 = 100 * small_h\n",
    "halocat_file_type=\"input_cat\" # \n",
    "ngrid= 256           # numer of grid points along the all three exes\n",
    "boxsize = 205          # Length of the box \n",
    "\n",
    "\n",
    "k, pk = [], []\n",
    "\n",
    "\n",
    "\n",
    "Igcal=ll.make_intensity_grid(halo_file, \n",
    "                           z,\n",
    "                           sfr_model=sfr_model,\n",
    "                           model_name= model_name,\n",
    "                           line_name = line_name, \n",
    "                           halo_cutoff_mass= mmin, \n",
    "                           halocat_type=halocat_file_type,\n",
    "                           ngrid_x = ngrid, \n",
    "                           ngrid_y = ngrid, \n",
    "                           ngrid_z = ngrid, \n",
    "                           boxsize_x=boxsize,\n",
    "                           boxsize_y=boxsize,\n",
    "                           boxsize_z=boxsize,\n",
    "                           use_scatter=False)\n",
    "\n",
    "pk0, k0  = get_power(Igcal, boxsize)\n",
    "\n",
    "\n"
   ]
  },
  {
   "cell_type": "code",
   "execution_count": null,
   "id": "5a326c3e",
   "metadata": {},
   "outputs": [],
   "source": [
    "# cross CII_280 * CO54 (90)\n",
    "z = 6.00  # redshift of catalog\n",
    "line_name = \"CII158\" # line name that you want to paint\n",
    "\n",
    "model_name=\"Alma_scalling\"  # line luminosity model name\n",
    "sfr_model=\"Fonseca16\" # sfr model name \n",
    "mmin=1e10              # minimum mass of the halos\n",
    "small_h = 0.68         # value of Hubble parameter. H0 = 100 * small_h\n",
    "halocat_file_type=\"input_cat\" # \n",
    "ngrid= 2         # numer of grid points along the all three exes\n",
    "boxsize = 205          # Length of the box \n",
    "\n",
    "\n",
    "Igcal=ll.make_intensity_grid(halo_file, \n",
    "                           z,\n",
    "                           sfr_model=sfr_model,\n",
    "                           model_name= model_name,\n",
    "                           line_name = line_name, \n",
    "                           halo_cutoff_mass= mmin, \n",
    "                           halocat_type=halocat_file_type,\n",
    "                           ngrid_x = ngrid, \n",
    "                           ngrid_y = ngrid, \n",
    "                           ngrid_z = ngrid, \n",
    "                           boxsize_x=boxsize,\n",
    "                           boxsize_y=boxsize,\n",
    "                           boxsize_z=boxsize,\n",
    "                           use_scatter = True)\n",
    "\n",
    "pk1, k1  = get_power(Igcal, boxsize)\n",
    "    \n",
    "\n"
   ]
  },
  {
   "cell_type": "code",
   "execution_count": null,
   "id": "f26906f4",
   "metadata": {},
   "outputs": [],
   "source": [
    "plt.loglog(k0, lu.dk(k0, pk0))\n",
    "\n",
    "plt.loglog(k1, lu.dk(k1, pk1))"
   ]
  },
  {
   "cell_type": "code",
   "execution_count": null,
   "id": "9f22783e",
   "metadata": {},
   "outputs": [],
   "source": [
    "(pk1 - pk0)* 100/ pk0"
   ]
  },
  {
   "cell_type": "code",
   "execution_count": null,
   "id": "f102fa5a",
   "metadata": {},
   "outputs": [],
   "source": [
    "halo_file = \"/Users/anirbanroy/Downloads/Halocat_TNG300_all/halos_TNG300_z3.49.npz\"\n",
    "\n",
    "# cross CII_280 * CO54 (90)\n",
    "z = 3.60  # redshift of catalog\n",
    "line_name = \"CII158\" # line name that you want to paint\n",
    "\n",
    "model_name=\"Alma_scalling\"  # line luminosity model name\n",
    "sfr_model=\"Fonseca16\" # sfr model name \n",
    "mmin=1e10              # minimum mass of the halos\n",
    "small_h = 0.68         # value of Hubble parameter. H0 = 100 * small_h\n",
    "halocat_file_type=\"input_cat\" # \n",
    "ngrid= 512          # numer of grid points along the all three exes\n",
    "boxsize = 206          # Length of the box \n",
    "\n",
    "\n",
    "k, pk = [], []\n",
    "\n",
    "\n",
    "\n",
    "Igcal=ll.make_intensity_grid(halo_file, \n",
    "                           z,\n",
    "                           sfr_model=sfr_model,\n",
    "                           model_name= model_name,\n",
    "                           line_name = line_name, \n",
    "                           halo_cutoff_mass= mmin, \n",
    "                           halocat_type=halocat_file_type,\n",
    "                           ngrid_x = ngrid, \n",
    "                           ngrid_y = ngrid, \n",
    "                           ngrid_z = ngrid, \n",
    "                           boxsize_x=boxsize,\n",
    "                           boxsize_y=boxsize,\n",
    "                           boxsize_z=boxsize,\n",
    "                           use_scatter=False)\n",
    "\n",
    "pk0, k0  = get_power(Igcal, boxsize)\n",
    "\n",
    "\n"
   ]
  },
  {
   "cell_type": "code",
   "execution_count": null,
   "id": "d6c558b3",
   "metadata": {},
   "outputs": [],
   "source": [
    "Igcal=ll.make_intensity_grid(halo_file, \n",
    "                           z,\n",
    "                           sfr_model=sfr_model,\n",
    "                           model_name= model_name,\n",
    "                           line_name = line_name, \n",
    "                           halo_cutoff_mass= mmin, \n",
    "                           halocat_type=halocat_file_type,\n",
    "                           ngrid_x = ngrid, \n",
    "                           ngrid_y = ngrid, \n",
    "                           ngrid_z = ngrid, \n",
    "                           boxsize_x=boxsize,\n",
    "                           boxsize_y=boxsize,\n",
    "                           boxsize_z=boxsize,\n",
    "                           use_scatter=True)\n",
    "\n",
    "pk1, k1  = get_power(Igcal, boxsize)"
   ]
  },
  {
   "cell_type": "code",
   "execution_count": null,
   "id": "37238a88",
   "metadata": {},
   "outputs": [],
   "source": [
    "fig = plt.figure(figsize=(5, 5), dpi=100)\n",
    "\n",
    "plt.loglog(k0, lu.dk(k0, pk0), color = \"crimson\", label = \"Without scatter\")\n",
    "plt.loglog(k1, lu.dk(k1, pk1),  color = \"black\", label = \"With scatter\")\n",
    "\n",
    "plt.xlim(1e-1,1e1)\n",
    "plt.ylim(1e5,1e10)\n",
    "\n",
    "plt.legend(loc=0, frameon=False)\n",
    "\n",
    "plt.ylabel(r\"$\\Delta^2_{\\rm CII} \\, [Jy/Sr]^2$\")\n",
    "plt.xlabel(r\"$k\\, [h/\\mathrm{Mpc}]$\")\n",
    "\n",
    "plt.savefig(\"CII_ps_metallicity.pdf\", bbox_inches= \"tight\")"
   ]
  },
  {
   "cell_type": "code",
   "execution_count": null,
   "id": "0ab017e7",
   "metadata": {},
   "outputs": [],
   "source": [
    "import matplotlib.pyplot as plt\n",
    "\n",
    "tPlot, axes = plt.subplots(\n",
    "        nrows=2, ncols=1, sharex=True, sharey=False,\n",
    "        gridspec_kw={'height_ratios':[3,1]}\n",
    "        )\n",
    "\n",
    "axes[0].loglog(k0, lu.dk(k0, pk0), color = \"crimson\", label = \"Without scatter\")\n",
    "axes[0].loglog(k1, lu.dk(k1, pk1),  color = \"blue\", label = \"With scatter\")\n",
    "axes[0].legend(loc=0, frameon=False)\n",
    "axes[0].set_xlim(1e-1,1e1)\n",
    "axes[0].set_ylim(1e5,1e10)\n",
    "axes[0].set_ylabel(r\"$\\Delta^2_{\\rm CII} \\, [Jy/Sr]^2$\")\n",
    "axes[0].set_xlabel(r\"$k\\, [h/\\mathrm{Mpc}]$\")\n",
    "\n",
    "\n",
    "axes[1].plot(k1, (pk1-pk0)*100/pk0, lw=3, color = \"red\")\n",
    "axes[1].set_xscale(\"log\")\n",
    "axes[1].legend(loc=0, frameon=False)\n",
    "axes[1].set_xlim(1e-1,1e1)\n",
    "axes[1].set_ylabel(r\"$\\%\\,diff$\")\n",
    "axes[1].set_xlabel(r\"$k\\, [h/\\mathrm{Mpc}]$\")\n",
    "\n",
    "plt.savefig(\"CII_scatter.pdf\", bbox_inches= \"tight\")"
   ]
  },
  {
   "cell_type": "code",
   "execution_count": 2,
   "id": "0323c620",
   "metadata": {},
   "outputs": [],
   "source": [
    "import limpy.theory as lt"
   ]
  },
  {
   "cell_type": "code",
   "execution_count": 3,
   "id": "e5ac1781",
   "metadata": {},
   "outputs": [
    {
     "data": {
      "text/plain": [
       "0.07853981633974483"
      ]
     },
     "execution_count": 3,
     "metadata": {},
     "output_type": "execute_result"
    }
   ],
   "source": [
    "2*np.pi/ 80"
   ]
  },
  {
   "cell_type": "code",
   "execution_count": 4,
   "id": "ea53f7cb",
   "metadata": {},
   "outputs": [
    {
     "name": "stdout",
     "output_type": "stream",
     "text": [
      "=====> Calculating Total power spectrum <=====\n"
     ]
    }
   ],
   "source": [
    "import time\n",
    "times =time.time()\n",
    "z= 2.8\n",
    "k= np.logspace(-2, 1, num =100)\n",
    "line_name=\"CII158\"\n",
    "sfr_model=\"Silva15\"\n",
    "model_name = \"Fonseca16\"\n",
    "\n",
    "\n",
    "print(\"=====> Calculating Total power spectrum <=====\")\n",
    "pk_theory=lt.Pk_line(k, z, line_name=line_name,\n",
    "                                     model_name= model_name, \n",
    "                                     label=\"total\", pk_unit='intensity')"
   ]
  },
  {
   "cell_type": "code",
   "execution_count": 6,
   "id": "5d296ab2",
   "metadata": {},
   "outputs": [],
   "source": [
    "np.savez(\"pstheory_mmin_fid\", k =k, z=z, pk = pk_theory)"
   ]
  },
  {
   "cell_type": "code",
   "execution_count": 5,
   "id": "8576bb71",
   "metadata": {},
   "outputs": [],
   "source": [
    "f2 = np.load(\"pstheory_mmin_fid.npz\")\n",
    "ks, pks = f2['k'], f2['pk']"
   ]
  },
  {
   "cell_type": "code",
   "execution_count": 6,
   "id": "1572c66b",
   "metadata": {},
   "outputs": [
    {
     "data": {
      "text/plain": [
       "[<matplotlib.lines.Line2D at 0x7fac6820a550>]"
      ]
     },
     "execution_count": 6,
     "metadata": {},
     "output_type": "execute_result"
    },
    {
     "data": {
      "image/png": "[encoded data removed]",
      "text/plain": [
       "<Figure size 500x500 with 1 Axes>"
      ]
     },
     "metadata": {},
     "output_type": "display_data"
    }
   ],
   "source": [
    "plt.loglog(k, lu.dk(k, pk_theory) )\n",
    "plt.loglog(ks, lu.dk(ks, pks) )"
   ]
  },
  {
   "cell_type": "code",
   "execution_count": null,
   "id": "e55236dc",
   "metadata": {},
   "outputs": [],
   "source": [
    "f1['pk']/f2['pk']"
   ]
  }
 ],
 "metadata": {
  "kernelspec": {
   "display_name": "Python 3 (ipykernel)",
   "language": "python",
   "name": "python3"
  },
  "language_info": {
   "codemirror_mode": {
    "name": "ipython",
    "version": 3
   },
   "file_extension": ".py",
   "mimetype": "text/x-python",
   "name": "python",
   "nbconvert_exporter": "python",
   "pygments_lexer": "ipython3",
   "version": "3.9.13"
  }
 },
 "nbformat": 4,
 "nbformat_minor": 5
}
